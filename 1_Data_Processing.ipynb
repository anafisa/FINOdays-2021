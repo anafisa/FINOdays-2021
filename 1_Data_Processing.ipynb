{
 "cells": [
  {
   "cell_type": "markdown",
   "metadata": {
    "id": "6gVp70PztR34"
   },
   "source": [
    "# Определение эмоционального окраса сообщений в чате FINOPOLIS\n",
    "\n",
    "\n"
   ]
  },
  {
   "cell_type": "markdown",
   "metadata": {
    "id": "XkEJ0XCWB5JH"
   },
   "source": [
    "## 1. Предобработка данных"
   ]
  },
  {
   "cell_type": "markdown",
   "metadata": {
    "id": "16LFhI4qjvXH"
   },
   "source": [
    "__Задача__— создать прототип сервиса, который с помощью машинного обучения сможет определять эмоциональный окрас входящих сообщений и классифицировать их по категориям."
   ]
  },
  {
   "cell_type": "markdown",
   "metadata": {
    "id": "x1j5E-irkf_9"
   },
   "source": [
    "Протестировать его работоспособность на открытых данных, используя датасет с отзывами о фильмах, Large Movie Dataset или Sentiment140 от Стэндфордского университета, а также на реальных кейсах, собранных Почта Банком."
   ]
  },
  {
   "cell_type": "markdown",
   "metadata": {
    "id": "ArhIQillB-Hz"
   },
   "source": [
    "Для обучения были выбраны данные, предложенные организаторами, а именно [Sentiment140](http://help.sentiment140.com/for-students/). \n",
    "\n",
    "\n",
    "\n",
    "> __Sentiment140__ - размеченный датасет состоящий из твитов, каждый твит имеет эмоциональный окрас: негативный(0), позитивный (4). В контексте задачи кейса, данный датасет является более подходящим, так как текст твитов наиболее приближен к реальному стилю общения человека в различных чатах.\n",
    "\n",
    "\n",
    "\n",
    "\n"
   ]
  },
  {
   "cell_type": "markdown",
   "metadata": {
    "id": "qLrQej8wG8ws"
   },
   "source": [
    "## 1.1. Описательный анализ данных"
   ]
  },
  {
   "cell_type": "markdown",
   "metadata": {
    "id": "1pjyLpB1K9bP"
   },
   "source": [
    "Предварительно данные были перезаписаны в формат __.parquet__ для более быстрой и простой загрузки данных в GoogleColab, где проводилась вся работа и обучались модели."
   ]
  },
  {
   "cell_type": "code",
   "execution_count": 1,
   "metadata": {
    "id": "mqwc7BeeA2ze"
   },
   "outputs": [],
   "source": [
    "# импорт библиотек\n",
    "import pandas as pd  \n",
    "import numpy as np\n",
    "\n",
    "import seaborn as sns\n",
    "sns.set_style('whitegrid')\n",
    "sns.set_palette('Set2')\n",
    "\n",
    "import matplotlib.pyplot as plt"
   ]
  },
  {
   "cell_type": "code",
   "execution_count": 2,
   "metadata": {
    "colab": {
     "base_uri": "https://localhost:8080/",
     "height": 204
    },
    "id": "rLvqE3KaBKOi",
    "outputId": "83bde524-dfaa-4a21-c8b9-53884235441e"
   },
   "outputs": [
    {
     "data": {
      "text/html": [
       "<div>\n",
       "<style scoped>\n",
       "    .dataframe tbody tr th:only-of-type {\n",
       "        vertical-align: middle;\n",
       "    }\n",
       "\n",
       "    .dataframe tbody tr th {\n",
       "        vertical-align: top;\n",
       "    }\n",
       "\n",
       "    .dataframe thead th {\n",
       "        text-align: right;\n",
       "    }\n",
       "</style>\n",
       "<table border=\"1\" class=\"dataframe\">\n",
       "  <thead>\n",
       "    <tr style=\"text-align: right;\">\n",
       "      <th></th>\n",
       "      <th>label</th>\n",
       "      <th>n</th>\n",
       "      <th>date</th>\n",
       "      <th>q</th>\n",
       "      <th>name</th>\n",
       "      <th>text</th>\n",
       "    </tr>\n",
       "  </thead>\n",
       "  <tbody>\n",
       "    <tr>\n",
       "      <th>0</th>\n",
       "      <td>0</td>\n",
       "      <td>1467810369</td>\n",
       "      <td>Mon Apr 06 22:19:45 PDT 2009</td>\n",
       "      <td>NO_QUERY</td>\n",
       "      <td>_TheSpecialOne_</td>\n",
       "      <td>@switchfoot http://twitpic.com/2y1zl - Awww, t...</td>\n",
       "    </tr>\n",
       "    <tr>\n",
       "      <th>1</th>\n",
       "      <td>0</td>\n",
       "      <td>1467810672</td>\n",
       "      <td>Mon Apr 06 22:19:49 PDT 2009</td>\n",
       "      <td>NO_QUERY</td>\n",
       "      <td>scotthamilton</td>\n",
       "      <td>is upset that he can't update his Facebook by ...</td>\n",
       "    </tr>\n",
       "    <tr>\n",
       "      <th>2</th>\n",
       "      <td>0</td>\n",
       "      <td>1467810917</td>\n",
       "      <td>Mon Apr 06 22:19:53 PDT 2009</td>\n",
       "      <td>NO_QUERY</td>\n",
       "      <td>mattycus</td>\n",
       "      <td>@Kenichan I dived many times for the ball. Man...</td>\n",
       "    </tr>\n",
       "    <tr>\n",
       "      <th>3</th>\n",
       "      <td>0</td>\n",
       "      <td>1467811184</td>\n",
       "      <td>Mon Apr 06 22:19:57 PDT 2009</td>\n",
       "      <td>NO_QUERY</td>\n",
       "      <td>ElleCTF</td>\n",
       "      <td>my whole body feels itchy and like its on fire</td>\n",
       "    </tr>\n",
       "    <tr>\n",
       "      <th>4</th>\n",
       "      <td>0</td>\n",
       "      <td>1467811193</td>\n",
       "      <td>Mon Apr 06 22:19:57 PDT 2009</td>\n",
       "      <td>NO_QUERY</td>\n",
       "      <td>Karoli</td>\n",
       "      <td>@nationwideclass no, it's not behaving at all....</td>\n",
       "    </tr>\n",
       "  </tbody>\n",
       "</table>\n",
       "</div>"
      ],
      "text/plain": [
       "   label  ...                                               text\n",
       "0      0  ...  @switchfoot http://twitpic.com/2y1zl - Awww, t...\n",
       "1      0  ...  is upset that he can't update his Facebook by ...\n",
       "2      0  ...  @Kenichan I dived many times for the ball. Man...\n",
       "3      0  ...    my whole body feels itchy and like its on fire \n",
       "4      0  ...  @nationwideclass no, it's not behaving at all....\n",
       "\n",
       "[5 rows x 6 columns]"
      ]
     },
     "execution_count": 2,
     "metadata": {},
     "output_type": "execute_result"
    }
   ],
   "source": [
    "# загрузка данных для обучения\n",
    "train_data = pd.read_parquet('train.parquet')\n",
    "train_data.head()"
   ]
  },
  {
   "cell_type": "markdown",
   "metadata": {
    "id": "GqYEUsxfmK0T"
   },
   "source": [
    "Описание признаков:"
   ]
  },
  {
   "cell_type": "markdown",
   "metadata": {
    "id": "WgUHsSo1KCU9"
   },
   "source": [
    "__label__ - the polarity of the tweet (0 = negative,  4 = positive)\n",
    "\n",
    "__n__ - the id of the tweet (2087)\n",
    "\n",
    "\n",
    "__date__ - the date of the tweet (Sat May 16 23:58:44 UTC 2009)\n",
    "\n",
    "\n",
    "__q__ - the query (lyx). If there is no query, then this value is NO_QUERY\n",
    "\n",
    "\n",
    "__name__ - the user that tweeted (robotickilldozr)\n",
    "\n",
    "\n",
    "__text__ - the text of the tweet \n"
   ]
  },
  {
   "cell_type": "code",
   "execution_count": 3,
   "metadata": {
    "id": "htG3njDAOELR"
   },
   "outputs": [],
   "source": [
    "# оставим только необходимые для работы данные\n",
    "train_data = train_data[['label', 'text']]\n",
    "# приведем метки классов к стандартному виду (0 - negative, 1 - positive)\n",
    "train_data['label'] = train_data['label'].replace(4,1)"
   ]
  },
  {
   "cell_type": "code",
   "execution_count": 4,
   "metadata": {
    "colab": {
     "base_uri": "https://localhost:8080/"
    },
    "id": "4cOjXtrUGqXX",
    "outputId": "23dce572-7037-41f5-ac56-adf89f90b9b8"
   },
   "outputs": [
    {
     "data": {
      "text/plain": [
       "(1600000, 2)"
      ]
     },
     "execution_count": 4,
     "metadata": {},
     "output_type": "execute_result"
    }
   ],
   "source": [
    "# размер данных для обучения\n",
    "train_data.shape"
   ]
  },
  {
   "cell_type": "code",
   "execution_count": 5,
   "metadata": {
    "colab": {
     "base_uri": "https://localhost:8080/"
    },
    "id": "mk0ZJwX1BVy3",
    "outputId": "9ab21f74-05ef-4847-e356-884409b2e742"
   },
   "outputs": [
    {
     "name": "stdout",
     "output_type": "stream",
     "text": [
      "<class 'pandas.core.frame.DataFrame'>\n",
      "RangeIndex: 1600000 entries, 0 to 1599999\n",
      "Data columns (total 2 columns):\n",
      " #   Column  Non-Null Count    Dtype \n",
      "---  ------  --------------    ----- \n",
      " 0   label   1600000 non-null  int64 \n",
      " 1   text    1600000 non-null  object\n",
      "dtypes: int64(1), object(1)\n",
      "memory usage: 24.4+ MB\n"
     ]
    }
   ],
   "source": [
    "# общая информация о типах данных\n",
    "train_data.info()"
   ]
  },
  {
   "cell_type": "code",
   "execution_count": 6,
   "metadata": {
    "colab": {
     "base_uri": "https://localhost:8080/"
    },
    "id": "84AAZ9oZB4F2",
    "outputId": "ec40f77d-ad92-411b-8cc9-11cd9dfe3b5d"
   },
   "outputs": [
    {
     "data": {
      "text/plain": [
       "1    800000\n",
       "0    800000\n",
       "Name: label, dtype: int64"
      ]
     },
     "execution_count": 6,
     "metadata": {},
     "output_type": "execute_result"
    }
   ],
   "source": [
    "# распределение целевой переменной \n",
    "train_data['label'].value_counts()"
   ]
  },
  {
   "cell_type": "code",
   "execution_count": 7,
   "metadata": {
    "colab": {
     "base_uri": "https://localhost:8080/",
     "height": 455
    },
    "id": "5hf2jmQzGc22",
    "outputId": "95d8cd92-e1ef-4e0d-f41a-04db440945c3"
   },
   "outputs": [
    {
     "data": {
      "image/png": "[encoded data removed]",
      "text/plain": [
       "<Figure size 792x504 with 1 Axes>"
      ]
     },
     "metadata": {
      "needs_background": "light"
     },
     "output_type": "display_data"
    }
   ],
   "source": [
    "# визуализация распределения целевой переменной\n",
    "fig = plt.figure(figsize=(11, 7))\n",
    "train_data['label'].value_counts(normalize=True).plot(kind='bar');\n",
    "plt.title(\"Распределение целевой переменной\");\n",
    "plt.xlabel(\"Отзыв\");\n",
    "plt.ylabel(\"Количество текстов\");"
   ]
  },
  {
   "cell_type": "markdown",
   "metadata": {
    "id": "PnpbD4RCM0nT"
   },
   "source": [
    "Таким образом, видно, что целевая переменная распределена равномерно, что скажется положительно на обучении модели. Оба класса хорошо сбалансированы. "
   ]
  },
  {
   "cell_type": "code",
   "execution_count": 8,
   "metadata": {
    "colab": {
     "base_uri": "https://localhost:8080/",
     "height": 458
    },
    "id": "RC5usanrG0ib",
    "outputId": "bf74e2ec-e3af-497a-ae4c-d0166962d4a8"
   },
   "outputs": [
    {
     "data": {
      "image/png": "[encoded data removed]",
      "text/plain": [
       "<Figure size 792x504 with 1 Axes>"
      ]
     },
     "metadata": {
      "needs_background": "light"
     },
     "output_type": "display_data"
    }
   ],
   "source": [
    "# рассмотрим распределение длин текстов в выборке\n",
    "df = train_data.copy()\n",
    "df['length'] = pd.cut(train_data['text'].apply(lambda x: len(x)), bins=[0, 50, 100, 200, float('inf')], \n",
    "labels=['0-50', '50-100', '100-200', '200+'])\n",
    "\n",
    "fig = plt.figure(figsize=(11, 7))\n",
    "sns.countplot(x='length', hue='label', data=df);\n",
    "plt.title(\"Распределение длин текстов отзывов\");\n",
    "plt.xlabel(\"Длина текста\");\n",
    "plt.ylabel(\"Количество текстов\");"
   ]
  },
  {
   "cell_type": "markdown",
   "metadata": {
    "id": "k5xvcC6WQ3Pu"
   },
   "source": [
    "## 1.2. Обработка исходных данных"
   ]
  },
  {
   "cell_type": "markdown",
   "metadata": {
    "id": "JmAlayZPRAnJ"
   },
   "source": [
    "Заметим, что исходные данные содержат:  \n",
    "\n",
    "*   различные символы\n",
    "*   упоминания/отметки пользователей __@user__\n",
    "*  ссылки __http://__\n",
    "* остатки декодирования __&,__ __\\ufffdn__\n",
    "* хэши __#...__"
   ]
  },
  {
   "cell_type": "markdown",
   "metadata": {
    "id": "TzfBgRKAheAI"
   },
   "source": [
    "Наличие всех перечисленных факторов в текстах может отрицательно влиять на обучение и качество модели, поэтому данные необходимо предобработать и очистить."
   ]
  },
  {
   "cell_type": "code",
   "execution_count": 9,
   "metadata": {
    "id": "XGxD73vrVfEo"
   },
   "outputs": [],
   "source": [
    "import re\n",
    "from bs4 import BeautifulSoup\n",
    "from nltk.tokenize import WordPunctTokenizer\n",
    "tok = WordPunctTokenizer()"
   ]
  },
  {
   "cell_type": "code",
   "execution_count": 10,
   "metadata": {
    "colab": {
     "base_uri": "https://localhost:8080/",
     "height": 37
    },
    "id": "0JYhQIstHHNx",
    "outputId": "2a401b1a-5ac4-4a27-ca53-25d34c1df05b"
   },
   "outputs": [
    {
     "data": {
      "application/vnd.google.colaboratory.intrinsic+json": {
       "type": "string"
      },
      "text/plain": [
       "\"@switchfoot http://twitpic.com/2y1zl - Awww, that's a bummer.  You shoulda got David Carr of Third Day to do it. ;D\""
      ]
     },
     "execution_count": 10,
     "metadata": {},
     "output_type": "execute_result"
    }
   ],
   "source": [
    " # пример упоминаний, наличия ссылок в тексте\n",
    "train_data['text'][0]"
   ]
  },
  {
   "cell_type": "code",
   "execution_count": 11,
   "metadata": {
    "colab": {
     "base_uri": "https://localhost:8080/",
     "height": 37
    },
    "id": "So9jM0vzgsfa",
    "outputId": "7447e5aa-d0c3-40df-b205-80f95ea21a47"
   },
   "outputs": [
    {
     "data": {
      "application/vnd.google.colaboratory.intrinsic+json": {
       "type": "string"
      },
      "text/plain": [
       "\" http://twitpic.com/2y1zl - Awww, that's a bummer.  You shoulda got David Carr of Third Day to do it. ;D\""
      ]
     },
     "execution_count": 11,
     "metadata": {},
     "output_type": "execute_result"
    }
   ],
   "source": [
    "# удаление упоминаний\n",
    "re.sub(r'@[A-Za-z0-9]+','', train_data['text'][0])"
   ]
  },
  {
   "cell_type": "code",
   "execution_count": 12,
   "metadata": {
    "colab": {
     "base_uri": "https://localhost:8080/",
     "height": 37
    },
    "id": "OQLB8U8lgso-",
    "outputId": "ce3e159c-465d-46c7-d403-4ee581529d66"
   },
   "outputs": [
    {
     "data": {
      "application/vnd.google.colaboratory.intrinsic+json": {
       "type": "string"
      },
      "text/plain": [
       "\"@switchfoot  - Awww, that's a bummer.  You shoulda got David Carr of Third Day to do it. ;D\""
      ]
     },
     "execution_count": 12,
     "metadata": {},
     "output_type": "execute_result"
    }
   ],
   "source": [
    "# удаление ссылок\n",
    "re.sub('https?://[A-Za-z0-9./]+','', train_data['text'][0])"
   ]
  },
  {
   "cell_type": "code",
   "execution_count": 13,
   "metadata": {
    "id": "qwDC8nVMWd8m"
   },
   "outputs": [],
   "source": [
    "# функция для предварительной обработки и очистки данных\n",
    "\n",
    "def text_cleaner(text):\n",
    "\n",
    "  clean_links = r'https?://[A-Za-z0-9./]+' # очистка от ссылок\n",
    "  clean_mentions = r'@[A-Za-z0-9]+'  # очистка от упоминаний\n",
    "  soup = BeautifulSoup(text, 'lxml').get_text() \n",
    "  cleaned = re.sub(r'|'.join((clean_links, clean_mentions)), '', soup)\n",
    "\n",
    "  try:\n",
    "      cleaned = cleaned.decode(\"utf-8-sig\").replace(u\"\\ufffd\", \"?\") # очистка от остатков декодирования\n",
    "  except:\n",
    "      pass\n",
    "\n",
    "  final_words = tok.tokenize(re.sub(\"[^a-zA-Z]\", \" \", cleaned).lower()) # очистка от хэшей и цифр\n",
    "  return (\" \".join(final_words)).strip()"
   ]
  },
  {
   "cell_type": "code",
   "execution_count": 14,
   "metadata": {
    "colab": {
     "base_uri": "https://localhost:8080/",
     "height": 37
    },
    "id": "jB4ZMG5HaZo8",
    "outputId": "9b8f1df6-e9c1-4bcf-a2e6-2b53c377f454"
   },
   "outputs": [
    {
     "data": {
      "application/vnd.google.colaboratory.intrinsic+json": {
       "type": "string"
      },
      "text/plain": [
       "'awww that s a bummer you shoulda got david carr of third day to do it d'"
      ]
     },
     "execution_count": 14,
     "metadata": {},
     "output_type": "execute_result"
    }
   ],
   "source": [
    "text_cleaner(train_data['text'][0])"
   ]
  },
  {
   "cell_type": "code",
   "execution_count": 15,
   "metadata": {
    "colab": {
     "base_uri": "https://localhost:8080/"
    },
    "id": "7_aAQeISb1Yy",
    "outputId": "7b41d289-c4c4-4824-c856-95f4beffdeff"
   },
   "outputs": [
    {
     "name": "stdout",
     "output_type": "stream",
     "text": [
      "CPU times: user 5min 55s, sys: 8.74 s, total: 6min 3s\n",
      "Wall time: 6min\n"
     ]
    }
   ],
   "source": [
    "%%time\n",
    "train_data['cleaned_text'] = train_data['text'].map(lambda x: text_cleaner(x))"
   ]
  },
  {
   "cell_type": "code",
   "execution_count": 16,
   "metadata": {
    "colab": {
     "base_uri": "https://localhost:8080/"
    },
    "id": "k58AmyRufMgo",
    "outputId": "c1dcfaaa-bef4-4500-ebab-2349d489d9d7"
   },
   "outputs": [
    {
     "data": {
      "text/plain": [
       "0          awww that s a bummer you shoulda got david car...\n",
       "1          is upset that he can t update his facebook by ...\n",
       "2          i dived many times for the ball managed to sav...\n",
       "3             my whole body feels itchy and like its on fire\n",
       "4          no it s not behaving at all i m mad why am i h...\n",
       "                                 ...                        \n",
       "1599995    just woke up having no school is the best feel...\n",
       "1599996    thewdb com very cool to hear old walt intervie...\n",
       "1599997    are you ready for your mojo makeover ask me fo...\n",
       "1599998    happy th birthday to my boo of alll time tupac...\n",
       "1599999                                 happy charitytuesday\n",
       "Name: cleaned_text, Length: 1600000, dtype: object"
      ]
     },
     "execution_count": 16,
     "metadata": {},
     "output_type": "execute_result"
    }
   ],
   "source": [
    "# очищенные текстовые признаки\n",
    "train_data['cleaned_text']"
   ]
  },
  {
   "cell_type": "code",
   "execution_count": 17,
   "metadata": {
    "colab": {
     "base_uri": "https://localhost:8080/",
     "height": 204
    },
    "id": "EHL9Ya4onOdm",
    "outputId": "4a9d8e9a-019b-4454-ce4b-1aab5eb7315a"
   },
   "outputs": [
    {
     "data": {
      "text/html": [
       "<div>\n",
       "<style scoped>\n",
       "    .dataframe tbody tr th:only-of-type {\n",
       "        vertical-align: middle;\n",
       "    }\n",
       "\n",
       "    .dataframe tbody tr th {\n",
       "        vertical-align: top;\n",
       "    }\n",
       "\n",
       "    .dataframe thead th {\n",
       "        text-align: right;\n",
       "    }\n",
       "</style>\n",
       "<table border=\"1\" class=\"dataframe\">\n",
       "  <thead>\n",
       "    <tr style=\"text-align: right;\">\n",
       "      <th></th>\n",
       "      <th>label</th>\n",
       "      <th>cleaned_text</th>\n",
       "    </tr>\n",
       "  </thead>\n",
       "  <tbody>\n",
       "    <tr>\n",
       "      <th>0</th>\n",
       "      <td>0</td>\n",
       "      <td>awww that s a bummer you shoulda got david car...</td>\n",
       "    </tr>\n",
       "    <tr>\n",
       "      <th>1</th>\n",
       "      <td>0</td>\n",
       "      <td>is upset that he can t update his facebook by ...</td>\n",
       "    </tr>\n",
       "    <tr>\n",
       "      <th>2</th>\n",
       "      <td>0</td>\n",
       "      <td>i dived many times for the ball managed to sav...</td>\n",
       "    </tr>\n",
       "    <tr>\n",
       "      <th>3</th>\n",
       "      <td>0</td>\n",
       "      <td>my whole body feels itchy and like its on fire</td>\n",
       "    </tr>\n",
       "    <tr>\n",
       "      <th>4</th>\n",
       "      <td>0</td>\n",
       "      <td>no it s not behaving at all i m mad why am i h...</td>\n",
       "    </tr>\n",
       "  </tbody>\n",
       "</table>\n",
       "</div>"
      ],
      "text/plain": [
       "   label                                       cleaned_text\n",
       "0      0  awww that s a bummer you shoulda got david car...\n",
       "1      0  is upset that he can t update his facebook by ...\n",
       "2      0  i dived many times for the ball managed to sav...\n",
       "3      0     my whole body feels itchy and like its on fire\n",
       "4      0  no it s not behaving at all i m mad why am i h..."
      ]
     },
     "execution_count": 17,
     "metadata": {},
     "output_type": "execute_result"
    }
   ],
   "source": [
    "new_train_data = train_data[['label', 'cleaned_text']]\n",
    "new_train_data.head()"
   ]
  },
  {
   "cell_type": "markdown",
   "metadata": {
    "id": "5LwltYVGrJsi"
   },
   "source": [
    "Запишем очищенные данные, которые впоследствие будем использовать для обучения моделей."
   ]
  },
  {
   "cell_type": "code",
   "execution_count": 18,
   "metadata": {
    "id": "j6WFJMedlyrk"
   },
   "outputs": [],
   "source": [
    "new_train_data.to_parquet('new_train_data.parquet', index=False)"
   ]
  }
 ],
 "metadata": {
  "colab": {
   "collapsed_sections": [],
   "name": "1. Data Processing.ipynb",
   "provenance": []
  },
  "kernelspec": {
   "display_name": "Python 3",
   "language": "python",
   "name": "python3"
  },
  "language_info": {
   "codemirror_mode": {
    "name": "ipython",
    "version": 3
   },
   "file_extension": ".py",
   "mimetype": "text/x-python",
   "name": "python",
   "nbconvert_exporter": "python",
   "pygments_lexer": "ipython3",
   "version": "3.7.4"
  }
 },
 "nbformat": 4,
 "nbformat_minor": 1
}
