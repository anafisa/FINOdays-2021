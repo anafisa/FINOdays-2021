{
 "cells": [
  {
   "cell_type": "markdown",
   "metadata": {
    "id": "Lv1nORvnYVQn"
   },
   "source": [
    "# Определение эмоционального окраса сообщений в чате FINOPOLIS"
   ]
  },
  {
   "cell_type": "markdown",
   "metadata": {
    "id": "XuoGk_thQqzH"
   },
   "source": [
    "__Задача__— создать прототип сервиса, который с помощью машинного обучения сможет определять эмоциональный окрас входящих сообщений и классифицировать их по категориям."
   ]
  },
  {
   "cell_type": "markdown",
   "metadata": {
    "id": "36ha0n0fRGhy"
   },
   "source": [
    "Протестировать его работоспособность на открытых данных, используя датасет с отзывами о фильмах, Large Movie Dataset или Sentiment140 от Стэндфордского университета, а также на реальных кейсах, собранных Почта Банком."
   ]
  },
  {
   "cell_type": "markdown",
   "metadata": {
    "id": "rvvDVv9ZROvu"
   },
   "source": [
    "На предыдущем шаге была произведена обработка и очистка датасета __Sentiment140__, теперь на данных можно обучать модели.\n",
    "Перед нами стоит задача классификации текста на две группы в зависимости от эмоциональной окраски: 0 - negative, 1 - positive."
   ]
  },
  {
   "cell_type": "markdown",
   "metadata": {
    "id": "u0P3wlp8Rdao"
   },
   "source": [
    "## 3. Исследование рекуррентных нейронных сетей"
   ]
  },
  {
   "cell_type": "markdown",
   "metadata": {
    "id": "DaowxaQRTuP7"
   },
   "source": [
    "Рекуррентные нейронные сети \u0016- подкласс неройнных сетей с обратными связями, которые используют предыдущие состояния сети для вычисления текущего. Рекуррентные нейронные сети добавляют память к искуственным нейронным сетям.Рекуррентные нейронные сети показывают результаты лучше других методов в задачах классификации текста."
   ]
  },
  {
   "cell_type": "code",
   "execution_count": 7,
   "metadata": {
    "id": "lpsyhVlJX5XH"
   },
   "outputs": [],
   "source": [
    "# импорт библиотек\n",
    "import numpy as np\n",
    "import pandas as pd\n",
    "import re\n",
    "import matplotlib.pyplot as plt\n",
    "%matplotlib inline \n",
    "\n",
    "%tensorflow_version 2.x\n",
    "import tensorflow as tf\n",
    "from tensorflow.keras.datasets import imdb\n",
    "from tensorflow.keras.models import Sequential\n",
    "from tensorflow.keras.layers import Dense, Embedding, SimpleRNN \n",
    "from tensorflow.keras import utils\n",
    "from tensorflow.keras.preprocessing.sequence import pad_sequences\n",
    "from tensorflow.keras.layers import Dense, LSTM, Input, Dropout, Embedding\n",
    "from tensorflow.keras.models import Sequential\n",
    "from tensorflow.keras.optimizers import Adam\n",
    "from tensorflow.keras.preprocessing.text import Tokenizer, text_to_word_sequence\n",
    "from tensorflow.keras.preprocessing.sequence import pad_sequences\n",
    "\n",
    "import os\n",
    "os.environ['TF_CPP_MIN_LOG_LEVEL'] = '2'"
   ]
  },
  {
   "cell_type": "markdown",
   "metadata": {
    "id": "kiA7X0oWaS9Z"
   },
   "source": [
    "### 3.1 Подготовка данных для обучения"
   ]
  },
  {
   "cell_type": "code",
   "execution_count": 111,
   "metadata": {
    "id": "NdPAor-T0-1J"
   },
   "outputs": [],
   "source": [
    "train_data = pd.read_parquet('train.parquet')\n",
    "test_data = pd.read_parquet('test.parquet')"
   ]
  },
  {
   "cell_type": "code",
   "execution_count": 114,
   "metadata": {
    "id": "ECA6RtEe3SmL"
   },
   "outputs": [],
   "source": [
    "x_train = train_data['text'].values\n",
    "y_train = train_data['label'].values\n",
    "x_test = test_data['text'].values\n",
    "y_test = test_data['label'].values"
   ]
  },
  {
   "cell_type": "code",
   "execution_count": 115,
   "metadata": {
    "id": "iD4GnPhH05U_"
   },
   "outputs": [],
   "source": [
    "tokenizer = Tokenizer(num_words=None, filters='!–\"—#$%&amp;()*+,-./:;<=>?@[\\\\]^_`{|}~\\t\\n\\r«»', lower=True, split=' ', char_level=False)\n",
    "tokenizer.fit_on_texts(x_train)"
   ]
  },
  {
   "cell_type": "code",
   "execution_count": 116,
   "metadata": {
    "id": "Dr1M5gz61SlR"
   },
   "outputs": [],
   "source": [
    "dist = list(tokenizer.word_counts.items())\n",
    "\n",
    "data = tokenizer.texts_to_sequences(x_train)\n",
    "x_train_transformed = pad_sequences(data, maxlen=150)"
   ]
  },
  {
   "cell_type": "code",
   "execution_count": 117,
   "metadata": {
    "colab": {
     "base_uri": "https://localhost:8080/"
    },
    "id": "wvYJxZUsBRxi",
    "outputId": "bb302037-b3fa-4b0e-8134-cd9797b66c12"
   },
   "outputs": [
    {
     "data": {
      "text/plain": [
       "array([[   0,    0,    0, ...,  348,    2,  262],\n",
       "       [   0,    0,    0, ...,    8,  500,   24],\n",
       "       [   0,    0,    0, ...,  102,    5,  105],\n",
       "       ...,\n",
       "       [   0,    0,    0, ...,    9,    2,  124],\n",
       "       [   0,    0,    0, ...,   49,   16,    3],\n",
       "       [   0,    0,    0, ...,    4, 3702,  164]], dtype=int32)"
      ]
     },
     "execution_count": 117,
     "metadata": {},
     "output_type": "execute_result"
    }
   ],
   "source": [
    "x_train_transformed"
   ]
  },
  {
   "cell_type": "markdown",
   "metadata": {
    "id": "rhSLT9WjTeMk"
   },
   "source": [
    "### 3.2 Создание нейронной сети"
   ]
  },
  {
   "cell_type": "code",
   "execution_count": 119,
   "metadata": {
    "id": "RVxt-DKOs7cR"
   },
   "outputs": [],
   "source": [
    "max_words, input_len = x_train_transformed.shape"
   ]
  },
  {
   "cell_type": "code",
   "execution_count": 5,
   "metadata": {
    "id": "Lrzx1e4xTgzL"
   },
   "outputs": [],
   "source": [
    "model = Sequential()\n",
    "model.add(Embedding(max_words, 2, input_length=150))\n",
    "\n",
    "model.add(SimpleRNN(10))\n",
    "model.add(Dense(1, activation='sigmoid'))"
   ]
  },
  {
   "cell_type": "code",
   "execution_count": 6,
   "metadata": {
    "id": "u1yNam-uSunE"
   },
   "outputs": [],
   "source": [
    "model.compile(optimizer='rmsprop', \n",
    "              loss='binary_crossentropy', \n",
    "              metrics=['accuracy'])"
   ]
  },
  {
   "cell_type": "code",
   "execution_count": 8,
   "metadata": {
    "colab": {
     "base_uri": "https://localhost:8080/",
     "height": 369
    },
    "id": "oGDazAaOUM6F",
    "outputId": "de7d1cb8-4084-40fa-b504-ba9200db0e7e"
   },
   "outputs": [
    {
     "data": {
      "image/png": "[encoded data removed]",
      "text/plain": [
       "<IPython.core.display.Image object>"
      ]
     },
     "execution_count": 8,
     "metadata": {},
     "output_type": "execute_result"
    }
   ],
   "source": [
    "tf.keras.utils.plot_model(model)"
   ]
  },
  {
   "cell_type": "markdown",
   "metadata": {
    "id": "9CHZwMttYMTb"
   },
   "source": [
    "### 3.3 Обучение нейронной сети"
   ]
  },
  {
   "cell_type": "code",
   "execution_count": 122,
   "metadata": {
    "colab": {
     "base_uri": "https://localhost:8080/"
    },
    "id": "AkmNH7ahYLyc",
    "outputId": "3b47e877-c71a-4d16-e57b-9fb28148bf79"
   },
   "outputs": [
    {
     "name": "stdout",
     "output_type": "stream",
     "text": [
      "Epoch 1/25\n",
      "90/90 [==============================] - 14s 142ms/step - loss: 0.6888 - accuracy: 0.5423 - val_loss: 0.6783 - val_accuracy: 0.6186\n",
      "Epoch 2/25\n",
      "90/90 [==============================] - 13s 141ms/step - loss: 0.6543 - accuracy: 0.6381 - val_loss: 0.6345 - val_accuracy: 0.6450\n",
      "Epoch 3/25\n",
      "90/90 [==============================] - 13s 139ms/step - loss: 0.6032 - accuracy: 0.6937 - val_loss: 0.5897 - val_accuracy: 0.7040\n",
      "Epoch 4/25\n",
      "90/90 [==============================] - 12s 138ms/step - loss: 0.5546 - accuracy: 0.7323 - val_loss: 0.5649 - val_accuracy: 0.7126\n",
      "Epoch 5/25\n",
      "90/90 [==============================] - 13s 141ms/step - loss: 0.5179 - accuracy: 0.7526 - val_loss: 0.5412 - val_accuracy: 0.7386\n",
      "Epoch 6/25\n",
      "90/90 [==============================] - 13s 141ms/step - loss: 0.4918 - accuracy: 0.7667 - val_loss: 0.5304 - val_accuracy: 0.7468\n",
      "Epoch 7/25\n",
      "90/90 [==============================] - 13s 139ms/step - loss: 0.4723 - accuracy: 0.7806 - val_loss: 0.5263 - val_accuracy: 0.7536\n",
      "Epoch 8/25\n",
      "90/90 [==============================] - 12s 137ms/step - loss: 0.4575 - accuracy: 0.7906 - val_loss: 0.5268 - val_accuracy: 0.7494\n",
      "Epoch 9/25\n",
      "90/90 [==============================] - 12s 138ms/step - loss: 0.4448 - accuracy: 0.7990 - val_loss: 0.5251 - val_accuracy: 0.7520\n",
      "Epoch 10/25\n",
      "90/90 [==============================] - 12s 136ms/step - loss: 0.4340 - accuracy: 0.8057 - val_loss: 0.5281 - val_accuracy: 0.7524\n",
      "Epoch 11/25\n",
      "90/90 [==============================] - 12s 136ms/step - loss: 0.4237 - accuracy: 0.8118 - val_loss: 0.6027 - val_accuracy: 0.7018\n",
      "Epoch 12/25\n",
      "90/90 [==============================] - 12s 138ms/step - loss: 0.4160 - accuracy: 0.8156 - val_loss: 0.5380 - val_accuracy: 0.7392\n",
      "Epoch 13/25\n",
      "90/90 [==============================] - 12s 138ms/step - loss: 0.4054 - accuracy: 0.8235 - val_loss: 0.5386 - val_accuracy: 0.7350\n",
      "Epoch 14/25\n",
      "90/90 [==============================] - 12s 135ms/step - loss: 0.3981 - accuracy: 0.8253 - val_loss: 0.5441 - val_accuracy: 0.7432\n",
      "Epoch 15/25\n",
      "90/90 [==============================] - 12s 135ms/step - loss: 0.3893 - accuracy: 0.8311 - val_loss: 0.5488 - val_accuracy: 0.7350\n",
      "Epoch 16/25\n",
      "90/90 [==============================] - 12s 136ms/step - loss: 0.3818 - accuracy: 0.8358 - val_loss: 0.5538 - val_accuracy: 0.7376\n",
      "Epoch 17/25\n",
      "90/90 [==============================] - 12s 136ms/step - loss: 0.3737 - accuracy: 0.8388 - val_loss: 0.5596 - val_accuracy: 0.7364\n",
      "Epoch 18/25\n",
      "90/90 [==============================] - 12s 136ms/step - loss: 0.3672 - accuracy: 0.8431 - val_loss: 0.5703 - val_accuracy: 0.7360\n",
      "Epoch 19/25\n",
      "90/90 [==============================] - 12s 136ms/step - loss: 0.3607 - accuracy: 0.8456 - val_loss: 0.5742 - val_accuracy: 0.7312\n",
      "Epoch 20/25\n",
      "90/90 [==============================] - 12s 137ms/step - loss: 0.3555 - accuracy: 0.8492 - val_loss: 0.5791 - val_accuracy: 0.7308\n",
      "Epoch 21/25\n",
      "90/90 [==============================] - 12s 136ms/step - loss: 0.3491 - accuracy: 0.8516 - val_loss: 0.5866 - val_accuracy: 0.7276\n",
      "Epoch 22/25\n",
      "90/90 [==============================] - 12s 137ms/step - loss: 0.3451 - accuracy: 0.8530 - val_loss: 0.5952 - val_accuracy: 0.7266\n",
      "Epoch 23/25\n",
      "90/90 [==============================] - 12s 137ms/step - loss: 0.3378 - accuracy: 0.8578 - val_loss: 0.6109 - val_accuracy: 0.7168\n",
      "Epoch 24/25\n",
      "90/90 [==============================] - 12s 137ms/step - loss: 0.3318 - accuracy: 0.8611 - val_loss: 0.6211 - val_accuracy: 0.7150\n",
      "Epoch 25/25\n",
      "90/90 [==============================] - 12s 136ms/step - loss: 0.3264 - accuracy: 0.8632 - val_loss: 0.6205 - val_accuracy: 0.7200\n"
     ]
    }
   ],
   "source": [
    "history = model.fit(x_train_transformed, \n",
    "                    y_train, \n",
    "                    epochs=25,\n",
    "                    batch_size=500,\n",
    "                    validation_split=0.1)"
   ]
  },
  {
   "cell_type": "code",
   "execution_count": 123,
   "metadata": {
    "colab": {
     "base_uri": "https://localhost:8080/",
     "height": 279
    },
    "id": "a19UCeAMDhQK",
    "outputId": "77fb2101-7595-488f-e8ba-e490d3eb14f2"
   },
   "outputs": [
    {
     "data": {
      "image/png": "[encoded data removed]",
      "text/plain": [
       "<Figure size 432x288 with 1 Axes>"
      ]
     },
     "metadata": {
      "needs_background": "light"
     },
     "output_type": "display_data"
    }
   ],
   "source": [
    "plt.plot(history.history['accuracy'], \n",
    "         label='Доля верных ответов на обучающем наборе')\n",
    "plt.plot(history.history['val_accuracy'], \n",
    "         label='Доля верных ответов на проверочном наборе')\n",
    "plt.xlabel('Эпоха обучения')\n",
    "plt.ylabel('Доля верных ответов')\n",
    "plt.legend()\n",
    "plt.show()"
   ]
  },
  {
   "cell_type": "markdown",
   "metadata": {
    "id": "HnnIy3JlEGqW"
   },
   "source": [
    "### 3.3 Тестирование работы сети на тестовом наборе данных"
   ]
  },
  {
   "cell_type": "code",
   "execution_count": 124,
   "metadata": {
    "id": "UI7ihTUrtdOT"
   },
   "outputs": [],
   "source": [
    "tokenizer = Tokenizer(num_words=None, filters='!–\"—#$%&amp;()*+,-./:;<=>?@[\\\\]^_`{|}~\\t\\n\\r«»', lower=True, split=' ', char_level=False)\n",
    "tokenizer.fit_on_texts(x_test)"
   ]
  },
  {
   "cell_type": "code",
   "execution_count": 125,
   "metadata": {
    "id": "fgBfi3ZjtgvH"
   },
   "outputs": [],
   "source": [
    "dist = list(tokenizer.word_counts.items())\n",
    "\n",
    "data = tokenizer.texts_to_sequences(x_test)\n",
    "data_pad = pad_sequences(data, maxlen=150)"
   ]
  },
  {
   "cell_type": "code",
   "execution_count": 126,
   "metadata": {
    "colab": {
     "base_uri": "https://localhost:8080/"
    },
    "id": "J1_ilV14EKBO",
    "outputId": "c860e16c-41b3-4849-a56e-aa3de11d9323"
   },
   "outputs": [
    {
     "name": "stdout",
     "output_type": "stream",
     "text": [
      "12/12 [==============================] - 0s 18ms/step - loss: 1.1212 - accuracy: 0.5042\n"
     ]
    }
   ],
   "source": [
    "scores = model.evaluate(data_pad, y_test)"
   ]
  },
  {
   "cell_type": "markdown",
   "metadata": {
    "id": "zxD0VcJuSfhP"
   },
   "source": [
    "К сожалению, результаты полученные с помощью нейронной сети на тестовых данных оказались неудовлетворительными, это связано с несколькими факторами:\n",
    " \n",
    "\n",
    "*   Необходимо использовать более серьезные архитектуры сетей, однако машинные ресурсы для этого ограничены\n",
    "*   Необходимо более тщательно подбирать параметры сети, а для этого требуется гораздо больше времени\n",
    "\n"
   ]
  }
 ],
 "metadata": {
  "accelerator": "GPU",
  "colab": {
   "collapsed_sections": [],
   "name": "3.  Neural Networks Reserch.ipynb",
   "provenance": []
  },
  "kernelspec": {
   "display_name": "Python 3",
   "language": "python",
   "name": "python3"
  },
  "language_info": {
   "codemirror_mode": {
    "name": "ipython",
    "version": 3
   },
   "file_extension": ".py",
   "mimetype": "text/x-python",
   "name": "python",
   "nbconvert_exporter": "python",
   "pygments_lexer": "ipython3",
   "version": "3.7.4"
  }
 },
 "nbformat": 4,
 "nbformat_minor": 1
}
