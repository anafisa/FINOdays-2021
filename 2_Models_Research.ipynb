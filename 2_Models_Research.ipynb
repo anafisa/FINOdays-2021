{
 "cells": [
  {
   "cell_type": "markdown",
   "metadata": {
    "id": "ZX3Z5kINHph1"
   },
   "source": [
    "# Определение эмоционального окраса сообщений в чате FINOPOLIS"
   ]
  },
  {
   "cell_type": "markdown",
   "metadata": {
    "id": "RIbHFjcJvIFJ"
   },
   "source": [
    "__Задача__— создать прототип сервиса, который с помощью машинного обучения сможет определять эмоциональный окрас входящих сообщений и классифицировать их по категориям."
   ]
  },
  {
   "cell_type": "markdown",
   "metadata": {
    "id": "deoeKrXLvMOF"
   },
   "source": [
    "Протестировать его работоспособность на открытых данных, используя датасет с отзывами о фильмах, Large Movie Dataset или Sentiment140 от Стэндфордского университета, а также на реальных кейсах, собранных Почта Банком."
   ]
  },
  {
   "cell_type": "markdown",
   "metadata": {
    "id": "0QCM337juSWl"
   },
   "source": [
    "## 2. Исследование моделей"
   ]
  },
  {
   "cell_type": "markdown",
   "metadata": {
    "id": "XkQWgSI3TJNi"
   },
   "source": [
    "На предыдущем шаге была произведена обработка и очистка датасета __Sentiment140__, теперь на данных можно обучать модели.\n",
    "\n",
    "Перед нами стоит задача классификации текста на две группы в зависимости от эмоциональной окраски: 0 - negative, 1 - positive. \n",
    "\n",
    "Для классификации могут использоваться следующие модели:\n",
    "* Линейные классификаторы\n",
    "* Решающие деревья \n",
    "* Байесовские классификаторы \n",
    "*  Нейронные сети \n"
   ]
  },
  {
   "cell_type": "markdown",
   "metadata": {
    "id": "AXsN0d2P4bjb"
   },
   "source": [
    "Для кодирования слов в тексте использовалась следующая последовательность методов: CountVectorizer()+ TfidfTransformer()"
   ]
  },
  {
   "cell_type": "code",
   "execution_count": 102,
   "metadata": {
    "id": "Ete6QebMHph4"
   },
   "outputs": [],
   "source": [
    "# импорт библиотек\n",
    "import numpy as np\n",
    "import pandas as pd\n",
    "import json\n",
    "import re\n",
    "\n",
    "import nltk\n",
    "from nltk.corpus import stopwords\n",
    "from nltk import word_tokenize\n",
    "\n",
    "from sklearn.feature_extraction.text import TfidfTransformer, CountVectorizer, TfidfVectorizer\n",
    "from sklearn.pipeline import Pipeline\n",
    "from sklearn.linear_model import LogisticRegression, SGDClassifier, RidgeClassifier\n",
    "from sklearn.naive_bayes import MultinomialNB, BernoulliNB, GaussianNB\n",
    "from sklearn.metrics import accuracy_score, classification_report\n",
    "from sklearn.preprocessing import LabelEncoder\n",
    "from sklearn.model_selection import train_test_split\n",
    "\n",
    "\n",
    "from sklearn.utils import shuffle\n",
    "from sklearn.base import TransformerMixin\n",
    "from sklearn.model_selection import RandomizedSearchCV, cross_val_score, StratifiedKFold\n",
    "from sklearn.svm import LinearSVC\n",
    "from sklearn.tree import DecisionTreeClassifier\n",
    "from sklearn.ensemble import RandomForestClassifier, BaggingClassifier, GradientBoostingClassifier\n",
    "from random import choice\n",
    "\n",
    "import matplotlib.pyplot as plt\n",
    "%matplotlib inline\n",
    "\n",
    "import warnings\n",
    "warnings.filterwarnings('ignore')"
   ]
  },
  {
   "cell_type": "markdown",
   "metadata": {
    "id": "1PevnyYbHpiL"
   },
   "source": [
    "### 2.1 Загрузка данных"
   ]
  },
  {
   "cell_type": "markdown",
   "metadata": {
    "id": "jXX64-xyoU2j"
   },
   "source": [
    "Загрузим предобработанные на предыдущем шаге данные"
   ]
  },
  {
   "cell_type": "code",
   "execution_count": null,
   "metadata": {
    "id": "NwHtpwdFHpiM"
   },
   "outputs": [],
   "source": [
    "train = pd.read_parquet('train.parquet')\n",
    "test = pd.read_parquet('test.parquet')"
   ]
  },
  {
   "cell_type": "code",
   "execution_count": null,
   "metadata": {
    "colab": {
     "base_uri": "https://localhost:8080/",
     "height": 204
    },
    "id": "crEaZGNlHpiM",
    "outputId": "6a131ae4-767c-470e-e7bb-691ace9fc9f6"
   },
   "outputs": [
    {
     "data": {
      "text/html": [
       "<div>\n",
       "<style scoped>\n",
       "    .dataframe tbody tr th:only-of-type {\n",
       "        vertical-align: middle;\n",
       "    }\n",
       "\n",
       "    .dataframe tbody tr th {\n",
       "        vertical-align: top;\n",
       "    }\n",
       "\n",
       "    .dataframe thead th {\n",
       "        text-align: right;\n",
       "    }\n",
       "</style>\n",
       "<table border=\"1\" class=\"dataframe\">\n",
       "  <thead>\n",
       "    <tr style=\"text-align: right;\">\n",
       "      <th></th>\n",
       "      <th>label</th>\n",
       "      <th>text</th>\n",
       "    </tr>\n",
       "  </thead>\n",
       "  <tbody>\n",
       "    <tr>\n",
       "      <th>0</th>\n",
       "      <td>0</td>\n",
       "      <td>awww that s a bummer you shoulda got david car...</td>\n",
       "    </tr>\n",
       "    <tr>\n",
       "      <th>1</th>\n",
       "      <td>0</td>\n",
       "      <td>is upset that he can t update his facebook by ...</td>\n",
       "    </tr>\n",
       "    <tr>\n",
       "      <th>2</th>\n",
       "      <td>0</td>\n",
       "      <td>i dived many times for the ball managed to sav...</td>\n",
       "    </tr>\n",
       "    <tr>\n",
       "      <th>3</th>\n",
       "      <td>0</td>\n",
       "      <td>my whole body feels itchy and like its on fire</td>\n",
       "    </tr>\n",
       "    <tr>\n",
       "      <th>4</th>\n",
       "      <td>0</td>\n",
       "      <td>no it s not behaving at all i m mad why am i h...</td>\n",
       "    </tr>\n",
       "  </tbody>\n",
       "</table>\n",
       "</div>"
      ],
      "text/plain": [
       "   label                                               text\n",
       "0      0  awww that s a bummer you shoulda got david car...\n",
       "1      0  is upset that he can t update his facebook by ...\n",
       "2      0  i dived many times for the ball managed to sav...\n",
       "3      0     my whole body feels itchy and like its on fire\n",
       "4      0  no it s not behaving at all i m mad why am i h..."
      ]
     },
     "execution_count": 3,
     "metadata": {},
     "output_type": "execute_result"
    }
   ],
   "source": [
    "# обучающий датасет\n",
    "train.head() "
   ]
  },
  {
   "cell_type": "code",
   "execution_count": null,
   "metadata": {
    "colab": {
     "base_uri": "https://localhost:8080/",
     "height": 204
    },
    "id": "DYADkB1YoltQ",
    "outputId": "071e0be6-6e24-4c5f-b810-38a3dfc4cc72"
   },
   "outputs": [
    {
     "data": {
      "text/html": [
       "<div>\n",
       "<style scoped>\n",
       "    .dataframe tbody tr th:only-of-type {\n",
       "        vertical-align: middle;\n",
       "    }\n",
       "\n",
       "    .dataframe tbody tr th {\n",
       "        vertical-align: top;\n",
       "    }\n",
       "\n",
       "    .dataframe thead th {\n",
       "        text-align: right;\n",
       "    }\n",
       "</style>\n",
       "<table border=\"1\" class=\"dataframe\">\n",
       "  <thead>\n",
       "    <tr style=\"text-align: right;\">\n",
       "      <th></th>\n",
       "      <th>label</th>\n",
       "      <th>text</th>\n",
       "    </tr>\n",
       "  </thead>\n",
       "  <tbody>\n",
       "    <tr>\n",
       "      <th>0</th>\n",
       "      <td>1</td>\n",
       "      <td>i loooooooovvvvvveee my kindle not that the dx...</td>\n",
       "    </tr>\n",
       "    <tr>\n",
       "      <th>1</th>\n",
       "      <td>1</td>\n",
       "      <td>reading my kindle love it lee childs is good read</td>\n",
       "    </tr>\n",
       "    <tr>\n",
       "      <th>2</th>\n",
       "      <td>1</td>\n",
       "      <td>ok first assesment of the kindle it fucking rocks</td>\n",
       "    </tr>\n",
       "    <tr>\n",
       "      <th>3</th>\n",
       "      <td>1</td>\n",
       "      <td>you ll love your kindle i ve had mine for a fe...</td>\n",
       "    </tr>\n",
       "    <tr>\n",
       "      <th>4</th>\n",
       "      <td>1</td>\n",
       "      <td>fair enough but i have the kindle and i think ...</td>\n",
       "    </tr>\n",
       "  </tbody>\n",
       "</table>\n",
       "</div>"
      ],
      "text/plain": [
       "   label                                               text\n",
       "0      1  i loooooooovvvvvveee my kindle not that the dx...\n",
       "1      1  reading my kindle love it lee childs is good read\n",
       "2      1  ok first assesment of the kindle it fucking rocks\n",
       "3      1  you ll love your kindle i ve had mine for a fe...\n",
       "4      1  fair enough but i have the kindle and i think ..."
      ]
     },
     "execution_count": 4,
     "metadata": {},
     "output_type": "execute_result"
    }
   ],
   "source": [
    "# тестовая выборка\n",
    "test.head()"
   ]
  },
  {
   "cell_type": "code",
   "execution_count": null,
   "metadata": {
    "id": "kZUcUXlGpaJe"
   },
   "outputs": [],
   "source": [
    "X_train = train['text'].values\n",
    "y_train = train['label'].values\n",
    "X_test = test['text'].values\n",
    "y_test = test['label'].values"
   ]
  },
  {
   "cell_type": "markdown",
   "metadata": {
    "id": "uorT1GlAHpiT"
   },
   "source": [
    "### 2.2 Обучение моделей"
   ]
  },
  {
   "cell_type": "code",
   "execution_count": null,
   "metadata": {
    "id": "eHkepTAwHpiW"
   },
   "outputs": [],
   "source": [
    "# вспомогательная функция, для упроцения пайплайна обучения\n",
    "def make_pipeline(vectorizer, transformer, classifier):\n",
    "    return Pipeline([\n",
    "            ('vectorizer', vectorizer),\n",
    "            ('transformer', transformer),\n",
    "            ('classifier', classifier)])"
   ]
  },
  {
   "cell_type": "markdown",
   "metadata": {
    "id": "w1uV5237HpiY"
   },
   "source": [
    "### 2.2.1 Линейные классификаторы"
   ]
  },
  {
   "cell_type": "code",
   "execution_count": null,
   "metadata": {
    "colab": {
     "base_uri": "https://localhost:8080/"
    },
    "id": "SsmcQI0IHpiZ",
    "outputId": "e3a0511d-47f1-478a-94f7-94a62fd25ffd"
   },
   "outputs": [
    {
     "name": "stdout",
     "output_type": "stream",
     "text": [
      "LogisticRegression - 0.7934825\n",
      "LinearSVC - 0.785765625\n",
      "SGDClassifier - 0.77611375\n",
      "RidgeClassifier - 0.7851600000000001\n",
      "CPU times: user 17min 39s, sys: 4min 22s, total: 22min 2s\n",
      "Wall time: 17min 14s\n"
     ]
    }
   ],
   "source": [
    "%%time\n",
    "for name, clf in {'LogisticRegression': LogisticRegression, 'LinearSVC': LinearSVC, \n",
    "               'SGDClassifier': SGDClassifier, 'RidgeClassifier': RidgeClassifier}.items():\n",
    "    score = cross_val_score(make_pipeline(CountVectorizer(), TfidfTransformer(), clf(random_state=777)), X_train, y_train, cv=5).mean()\n",
    "    print(f\"{name} - {score}\")"
   ]
  },
  {
   "cell_type": "markdown",
   "metadata": {
    "id": "akkE0OB-FogB"
   },
   "source": [
    "Таким образом, на кросс-валидации лучшие результаты показали линейные модели LogisticRegression и LinearSVC, попробуем подобрать параметры для данных моделей."
   ]
  },
  {
   "cell_type": "markdown",
   "metadata": {
    "id": "V5fD9iZOHpie"
   },
   "source": [
    "#### Настройка параметров для линейных моделей\n"
   ]
  },
  {
   "cell_type": "code",
   "execution_count": null,
   "metadata": {
    "id": "PKZe44EMvDte"
   },
   "outputs": [],
   "source": [
    "stop_words =  stopwords.words('english')"
   ]
  },
  {
   "cell_type": "code",
   "execution_count": null,
   "metadata": {
    "id": "Y1b46lrRRGi0"
   },
   "outputs": [],
   "source": [
    "params_grid_vectorizer = {\n",
    "    'vectorizer__max_df' : [0.85, 0.9, 1.0],\n",
    "    'vectorizer__min_df' : [1, 10, 20], \n",
    "    'vectorizer__ngram_range' : [(1, 1), (1, 2), (1, 3), (1, 5)],\n",
    "    'vectorizer__stop_words' : [stop_words, None, 'english']\n",
    "}"
   ]
  },
  {
   "cell_type": "code",
   "execution_count": null,
   "metadata": {
    "id": "Q4KaU9OiHpie"
   },
   "outputs": [],
   "source": [
    "params_grid_lr = {\n",
    "    'classifier__C': [0.15, 0.3, 0.5, 0.8],\n",
    "    'classifier__max_iter': [100, 300, 500],\n",
    "    'classifier__solver': ['lbfgs', 'liblinear', 'sag']\n",
    "}\n",
    "params_grid_lsvc = {\n",
    "    'classifier__loss': ['hinge', 'squared_hinge'], \n",
    "    'classifier__max_iter': [100, 300, 500],\n",
    "    'classifier__tol': [1e-5, 1e-4, 1e-3],\n",
    "    'classifier__C': [0.15, 0.3, 0.5, 0.8]\n",
    "}"
   ]
  },
  {
   "cell_type": "code",
   "execution_count": null,
   "metadata": {
    "id": "4X3rTP9Kvzri"
   },
   "outputs": [],
   "source": [
    "def make_estimator(classifier, params_grid, scorer, data, labels):\n",
    "    pipeline = make_pipeline(CountVectorizer(), TfidfTransformer(), classifier)\n",
    "    grid_cv = RandomizedSearchCV(pipeline, params_grid, scoring=scorer, cv=5, random_state=777, n_iter=100)\n",
    "    grid_cv.fit(data, labels)\n",
    "    return grid_cv"
   ]
  },
  {
   "cell_type": "code",
   "execution_count": null,
   "metadata": {
    "colab": {
     "base_uri": "https://localhost:8080/"
    },
    "id": "NTshVpVzHpif",
    "outputId": "02cf9e5b-f4b5-4026-8779-087d291b8de1"
   },
   "outputs": [
    {
     "name": "stdout",
     "output_type": "stream",
     "text": [
      "LogisticRegression:\n",
      "Лучшие параметры - {'vectorizer__stop_words': None, 'vectorizer__ngram_range': (1, 1), 'vectorizer__min_df': 1, 'vectorizer__max_df': 1.0, 'classifier__solver': 'lbfgs', 'classifier__max_iter': 300, 'classifier__C': 0.5}\n"
     ]
    }
   ],
   "source": [
    "grid_search_lr = make_estimator(LogisticRegression(random_state=777), \n",
    "                                {**params_grid_vectorizer, **params_grid_lr}, 'accuracy', X_train, y_train)\n",
    "print(\"LogisticRegression:\")\n",
    "print(f\"Лучшие параметры - {grid_search_lr.best_params_}\")"
   ]
  },
  {
   "cell_type": "code",
   "execution_count": null,
   "metadata": {
    "colab": {
     "base_uri": "https://localhost:8080/"
    },
    "id": "oYogZgrlHpif",
    "outputId": "0aef4d79-d898-46ad-8ee2-cfba76fcc440"
   },
   "outputs": [
    {
     "name": "stdout",
     "output_type": "stream",
     "text": [
      "LinearSVC:\n",
      "Параметры - {'vectorizer__stop_words': None, 'vectorizer__ngram_range': (1, 2), 'vectorizer__min_df': 1, 'vectorizer__max_df': 1.0, 'classifier__tol': 1e-05, 'classifier__max_iter': 500, 'classifier__loss': 'hinge', 'classifier__C': 0.8}\n"
     ]
    }
   ],
   "source": [
    "grid_search_lsvc = make_estimator(LinearSVC(random_state=777), \n",
    "                                  {**params_grid_vectorizer, **params_grid_lsvc}, 'accuracy', X_train, y_train)\n",
    "print(\"LinearSVC:\")\n",
    "print(f\"Параметры - {grid_search_lsvc.best_params_}\")"
   ]
  },
  {
   "cell_type": "code",
   "execution_count": null,
   "metadata": {
    "colab": {
     "base_uri": "https://localhost:8080/"
    },
    "id": "hKXXya0OHpii",
    "outputId": "4ef38e96-5e99-4a55-dc1f-254a4631149d"
   },
   "outputs": [
    {
     "name": "stdout",
     "output_type": "stream",
     "text": [
      "Лучшая линейная модель - LogisticRegression\n",
      "Параметры - {'vectorizer__stop_words': None, 'vectorizer__ngram_range': (1, 1), 'vectorizer__min_df': 1, 'vectorizer__max_df': 1.0, 'classifier__solver': 'lbfgs', 'classifier__max_iter': 300, 'classifier__C': 0.5}\n"
     ]
    }
   ],
   "source": [
    "results_linear = {'LogisticRegression': (grid_search_lr.best_score_, grid_search_lr.best_params_),\n",
    "                  'LinearSVC': (grid_search_lsvc.best_score_, grid_search_lsvc.best_params_),\n",
    "                  }\n",
    "print(f\"Лучшая линейная модель - {max(results_linear, key=results_linear.get)}\")\n",
    "print(f\"Параметры - {max(results_linear.values())[1]}\")"
   ]
  },
  {
   "cell_type": "markdown",
   "metadata": {
    "id": "DPCag1cvy7uV"
   },
   "source": [
    "#### Качество лучшей линейной модели с подбором параметров"
   ]
  },
  {
   "cell_type": "code",
   "execution_count": null,
   "metadata": {
    "id": "8H8dOtu-yJPJ"
   },
   "outputs": [],
   "source": [
    "best_lin_model = Pipeline([\n",
    "                           ('vectorizer', CountVectorizer(min_df=1, ngram_range=(1, 1), max_df=1.0, stop_words=None)),\n",
    "                           ('transformer', TfidfTransformer()),\n",
    "                           ('classifier', LogisticRegression(max_iter=300, solver='lbfgs', C=0.5,  random_state=777))\n",
    "                           ])"
   ]
  },
  {
   "cell_type": "code",
   "execution_count": null,
   "metadata": {
    "colab": {
     "base_uri": "https://localhost:8080/"
    },
    "id": "XSRTAuCTyJ7h",
    "outputId": "3c96b1cf-8fcb-4a31-a2d0-a940373f9a72"
   },
   "outputs": [
    {
     "data": {
      "text/plain": [
       "Pipeline(memory=None,\n",
       "         steps=[('vectorizer',\n",
       "                 CountVectorizer(analyzer='word', binary=False,\n",
       "                                 decode_error='strict',\n",
       "                                 dtype=<class 'numpy.int64'>, encoding='utf-8',\n",
       "                                 input='content', lowercase=True, max_df=1.0,\n",
       "                                 max_features=None, min_df=1,\n",
       "                                 ngram_range=(1, 1), preprocessor=None,\n",
       "                                 stop_words=None, strip_accents=None,\n",
       "                                 token_pattern='(?u)\\\\b\\\\w\\\\w+\\\\b',\n",
       "                                 tokenizer=None, vocabula...\n",
       "                ('transformer',\n",
       "                 TfidfTransformer(norm='l2', smooth_idf=True,\n",
       "                                  sublinear_tf=False, use_idf=True)),\n",
       "                ('classifier',\n",
       "                 LogisticRegression(C=0.5, class_weight=None, dual=False,\n",
       "                                    fit_intercept=True, intercept_scaling=1,\n",
       "                                    l1_ratio=None, max_iter=300,\n",
       "                                    multi_class='auto', n_jobs=None,\n",
       "                                    penalty='l2', random_state=777,\n",
       "                                    solver='lbfgs', tol=0.0001, verbose=0,\n",
       "                                    warm_start=False))],\n",
       "         verbose=False)"
      ]
     },
     "execution_count": 35,
     "metadata": {},
     "output_type": "execute_result"
    }
   ],
   "source": [
    "best_lin_model.fit(X_train, y_train)"
   ]
  },
  {
   "cell_type": "code",
   "execution_count": null,
   "metadata": {
    "colab": {
     "base_uri": "https://localhost:8080/"
    },
    "id": "QX0bzeeV0TaR",
    "outputId": "5116c9c6-3a02-4599-ee81-453ec9262f66"
   },
   "outputs": [
    {
     "data": {
      "text/plain": [
       "0.809895625"
      ]
     },
     "execution_count": 36,
     "metadata": {},
     "output_type": "execute_result"
    }
   ],
   "source": [
    "best_lin_model.score(X_train, y_train)"
   ]
  },
  {
   "cell_type": "code",
   "execution_count": null,
   "metadata": {
    "colab": {
     "base_uri": "https://localhost:8080/"
    },
    "id": "e-crCI_K0ik-",
    "outputId": "8e45263f-bd22-4518-e4bd-947dab2bf26c"
   },
   "outputs": [
    {
     "data": {
      "text/plain": [
       "0.8189415041782729"
      ]
     },
     "execution_count": 37,
     "metadata": {},
     "output_type": "execute_result"
    }
   ],
   "source": [
    "best_lin_model.score(X_test, y_test)"
   ]
  },
  {
   "cell_type": "markdown",
   "metadata": {
    "id": "Kl7FWjEo3xCN"
   },
   "source": [
    "\n",
    "\n",
    "---\n",
    "\n"
   ]
  },
  {
   "cell_type": "markdown",
   "metadata": {
    "id": "CE3fdNuNHpii"
   },
   "source": [
    "### 2.2.2 Байесовские классификаторы"
   ]
  },
  {
   "cell_type": "code",
   "execution_count": null,
   "metadata": {
    "colab": {
     "base_uri": "https://localhost:8080/"
    },
    "id": "WsCt50IGHpii",
    "outputId": "42704b2a-16db-4dcd-9d30-47e612d8c958"
   },
   "outputs": [
    {
     "name": "stdout",
     "output_type": "stream",
     "text": [
      "MultinomialNB - 0.7734399999999999\n",
      "BernoulliNB - 0.780085625\n",
      "CPU times: user 4min 15s, sys: 1.98 s, total: 4min 17s\n",
      "Wall time: 4min 20s\n"
     ]
    }
   ],
   "source": [
    "%%time\n",
    "for name, clf in {'MultinomialNB': MultinomialNB, 'BernoulliNB': BernoulliNB}.items():\n",
    "    score = cross_val_score(make_pipeline(CountVectorizer(), TfidfTransformer(), clf()), X_train, y_train, cv=5).mean()\n",
    "    print(f\"{name} - {score}\")"
   ]
  },
  {
   "cell_type": "markdown",
   "metadata": {
    "id": "pM3OtLXcHpij"
   },
   "source": [
    "#### Настройка параметров"
   ]
  },
  {
   "cell_type": "code",
   "execution_count": null,
   "metadata": {
    "id": "rDZtslraHpij"
   },
   "outputs": [],
   "source": [
    "params_grid_mnb = {\n",
    "    'classifier__alpha': np.logspace(0, 5, 10), \n",
    "    'classifier__fit_prior': [True, False]\n",
    "}\n",
    "params_grid_bnb = {\n",
    "    'classifier__alpha': np.logspace(0, 5, 10),\n",
    "    'classifier__fit_prior': [True, False]\n",
    "}"
   ]
  },
  {
   "cell_type": "code",
   "execution_count": null,
   "metadata": {
    "colab": {
     "base_uri": "https://localhost:8080/"
    },
    "id": "C9hcHUohHpik",
    "outputId": "42ebe8a9-79d3-48ee-e1ac-b826e20ff42d"
   },
   "outputs": [
    {
     "name": "stdout",
     "output_type": "stream",
     "text": [
      "BernoulliNB:\n",
      "Параметры - {'vectorizer__stop_words': ['i', 'me', 'my', 'myself', 'we', 'our', 'ours', 'ourselves', 'you', \"you're\", \"you've\", \"you'll\", \"you'd\", 'your', 'yours', 'yourself', 'yourselves', 'he', 'him', 'his', 'himself', 'she', \"she's\", 'her', 'hers', 'herself', 'it', \"it's\", 'its', 'itself', 'they', 'them', 'their', 'theirs', 'themselves', 'what', 'which', 'who', 'whom', 'this', 'that', \"that'll\", 'these', 'those', 'am', 'is', 'are', 'was', 'were', 'be', 'been', 'being', 'have', 'has', 'had', 'having', 'do', 'does', 'did', 'doing', 'a', 'an', 'the', 'and', 'but', 'if', 'or', 'because', 'as', 'until', 'while', 'of', 'at', 'by', 'for', 'with', 'about', 'against', 'between', 'into', 'through', 'during', 'before', 'after', 'above', 'below', 'to', 'from', 'up', 'down', 'in', 'out', 'on', 'off', 'over', 'under', 'again', 'further', 'then', 'once', 'here', 'there', 'when', 'where', 'why', 'how', 'all', 'any', 'both', 'each', 'few', 'more', 'most', 'other', 'some', 'such', 'no', 'nor', 'not', 'only', 'own', 'same', 'so', 'than', 'too', 'very', 's', 't', 'can', 'will', 'just', 'don', \"don't\", 'should', \"should've\", 'now', 'd', 'll', 'm', 'o', 're', 've', 'y', 'ain', 'aren', \"aren't\", 'couldn', \"couldn't\", 'didn', \"didn't\", 'doesn', \"doesn't\", 'hadn', \"hadn't\", 'hasn', \"hasn't\", 'haven', \"haven't\", 'isn', \"isn't\", 'ma', 'mightn', \"mightn't\", 'mustn', \"mustn't\", 'needn', \"needn't\", 'shan', \"shan't\", 'shouldn', \"shouldn't\", 'wasn', \"wasn't\", 'weren', \"weren't\", 'won', \"won't\", 'wouldn', \"wouldn't\"], 'vectorizer__ngram_range': (1, 2), 'vectorizer__min_df': 1, 'vectorizer__max_df': 1.0, 'classifier__fit_prior': False, 'classifier__alpha': 12.91549665014884}\n"
     ]
    }
   ],
   "source": [
    "grid_search_bnb = make_estimator(BernoulliNB(), \n",
    "                                {**params_grid_vectorizer, **params_grid_bnb}, 'accuracy', X_train, y_train)\n",
    "print(\"BernoulliNB:\")\n",
    "print(f\"Параметры - {grid_search_bnb.best_params_}\")"
   ]
  },
  {
   "cell_type": "code",
   "execution_count": null,
   "metadata": {
    "colab": {
     "base_uri": "https://localhost:8080/"
    },
    "id": "u7I9XTKgHpik",
    "outputId": "a14382d5-a7dc-42df-d6f8-a3d9d3e103c6"
   },
   "outputs": [
    {
     "name": "stdout",
     "output_type": "stream",
     "text": [
      "Лучшая байесовская модель - BernoulliNB\n",
      "Параметры - {'vectorizer__stop_words': ['i', 'me', 'my', 'myself', 'we', 'our', 'ours', 'ourselves', 'you', \"you're\", \"you've\", \"you'll\", \"you'd\", 'your', 'yours', 'yourself', 'yourselves', 'he', 'him', 'his', 'himself', 'she', \"she's\", 'her', 'hers', 'herself', 'it', \"it's\", 'its', 'itself', 'they', 'them', 'their', 'theirs', 'themselves', 'what', 'which', 'who', 'whom', 'this', 'that', \"that'll\", 'these', 'those', 'am', 'is', 'are', 'was', 'were', 'be', 'been', 'being', 'have', 'has', 'had', 'having', 'do', 'does', 'did', 'doing', 'a', 'an', 'the', 'and', 'but', 'if', 'or', 'because', 'as', 'until', 'while', 'of', 'at', 'by', 'for', 'with', 'about', 'against', 'between', 'into', 'through', 'during', 'before', 'after', 'above', 'below', 'to', 'from', 'up', 'down', 'in', 'out', 'on', 'off', 'over', 'under', 'again', 'further', 'then', 'once', 'here', 'there', 'when', 'where', 'why', 'how', 'all', 'any', 'both', 'each', 'few', 'more', 'most', 'other', 'some', 'such', 'no', 'nor', 'not', 'only', 'own', 'same', 'so', 'than', 'too', 'very', 's', 't', 'can', 'will', 'just', 'don', \"don't\", 'should', \"should've\", 'now', 'd', 'll', 'm', 'o', 're', 've', 'y', 'ain', 'aren', \"aren't\", 'couldn', \"couldn't\", 'didn', \"didn't\", 'doesn', \"doesn't\", 'hadn', \"hadn't\", 'hasn', \"hasn't\", 'haven', \"haven't\", 'isn', \"isn't\", 'ma', 'mightn', \"mightn't\", 'mustn', \"mustn't\", 'needn', \"needn't\", 'shan', \"shan't\", 'shouldn', \"shouldn't\", 'wasn', \"wasn't\", 'weren', \"weren't\", 'won', \"won't\", 'wouldn', \"wouldn't\"], 'vectorizer__ngram_range': (1, 2), 'vectorizer__min_df': 1, 'vectorizer__max_df': 1.0, 'classifier__fit_prior': False, 'classifier__alpha': 12.91549665014884}\n"
     ]
    }
   ],
   "source": [
    "results_bayes = {'BernoulliNB': (grid_search_bnb.best_score_, grid_search_bnb.best_params_)}\n",
    "print(f\"Лучшая байесовская модель - {max(results_bayes, key=results_bayes.get)}\")\n",
    "print(f\"Параметры - {max(results_bayes.values())[1]}\")"
   ]
  },
  {
   "cell_type": "markdown",
   "metadata": {
    "id": "Frak8zwW2a1e"
   },
   "source": [
    "#### Качество лучшей линейной модели с подбором параметров"
   ]
  },
  {
   "cell_type": "code",
   "execution_count": null,
   "metadata": {
    "id": "983s8aJH2Lsp"
   },
   "outputs": [],
   "source": [
    "best_bayes_model = Pipeline([\n",
    "                           ('vectorizer', CountVectorizer(min_df=1, ngram_range=(1, 2), max_df=1.0, stop_words=stop_words)),\n",
    "                           ('transformer', TfidfTransformer()),\n",
    "                           ('classifier', BernoulliNB(fit_prior=False, alpha=12.9))\n",
    "                           ])"
   ]
  },
  {
   "cell_type": "code",
   "execution_count": null,
   "metadata": {
    "colab": {
     "base_uri": "https://localhost:8080/"
    },
    "id": "CgahDuE52L6H",
    "outputId": "9a3dff7d-0ecf-42bf-e13b-3dfc05e175fa"
   },
   "outputs": [
    {
     "data": {
      "text/plain": [
       "Pipeline(memory=None,\n",
       "         steps=[('vectorizer',\n",
       "                 CountVectorizer(analyzer='word', binary=False,\n",
       "                                 decode_error='strict',\n",
       "                                 dtype=<class 'numpy.int64'>, encoding='utf-8',\n",
       "                                 input='content', lowercase=True, max_df=1.0,\n",
       "                                 max_features=None, min_df=1,\n",
       "                                 ngram_range=(1, 2), preprocessor=None,\n",
       "                                 stop_words=['i', 'me', 'my', 'myself', 'we',\n",
       "                                             'our', 'ours', 'ourselves', 'you',\n",
       "                                             \"you're\", \"you've\", \"yo...\n",
       "                                             'him', 'his', 'himself', 'she',\n",
       "                                             \"she's\", 'her', 'hers', 'herself',\n",
       "                                             'it', \"it's\", 'its', 'itself', ...],\n",
       "                                 strip_accents=None,\n",
       "                                 token_pattern='(?u)\\\\b\\\\w\\\\w+\\\\b',\n",
       "                                 tokenizer=None, vocabulary=None)),\n",
       "                ('transformer',\n",
       "                 TfidfTransformer(norm='l2', smooth_idf=True,\n",
       "                                  sublinear_tf=False, use_idf=True)),\n",
       "                ('classifier',\n",
       "                 BernoulliNB(alpha=12.9, binarize=0.0, class_prior=None,\n",
       "                             fit_prior=False))],\n",
       "         verbose=False)"
      ]
     },
     "execution_count": 53,
     "metadata": {},
     "output_type": "execute_result"
    }
   ],
   "source": [
    "best_bayes_model.fit(X_train, y_train)"
   ]
  },
  {
   "cell_type": "code",
   "execution_count": null,
   "metadata": {
    "colab": {
     "base_uri": "https://localhost:8080/"
    },
    "id": "rQYu9VtJ3PqR",
    "outputId": "aa6a5abf-d6bc-4a96-dbfe-d94e2da345ca"
   },
   "outputs": [
    {
     "data": {
      "text/plain": [
       "0.815718125"
      ]
     },
     "execution_count": 54,
     "metadata": {},
     "output_type": "execute_result"
    }
   ],
   "source": [
    "best_bayes_model.score(X_train, y_train)"
   ]
  },
  {
   "cell_type": "code",
   "execution_count": null,
   "metadata": {
    "colab": {
     "base_uri": "https://localhost:8080/"
    },
    "id": "7qAK9DB53Pzo",
    "outputId": "d242a7c6-66c9-4713-97cb-4f01a53c34fa"
   },
   "outputs": [
    {
     "data": {
      "text/plain": [
       "0.8495821727019499"
      ]
     },
     "execution_count": 55,
     "metadata": {},
     "output_type": "execute_result"
    }
   ],
   "source": [
    "best_bayes_model.score(X_test, y_test)"
   ]
  },
  {
   "cell_type": "markdown",
   "metadata": {
    "id": "Z1wJd0wCKjT-"
   },
   "source": [
    "\n",
    "\n",
    "---\n",
    "\n",
    "\n"
   ]
  },
  {
   "cell_type": "markdown",
   "metadata": {
    "id": "DBxrdIyYHpik"
   },
   "source": [
    "### 2.2.3. Решающие деревья"
   ]
  },
  {
   "cell_type": "code",
   "execution_count": null,
   "metadata": {
    "colab": {
     "base_uri": "https://localhost:8080/"
    },
    "id": "etSWGya5Hpil",
    "outputId": "8dc0ba59-7d71-4173-9e9b-1f598a805b43"
   },
   "outputs": [
    {
     "name": "stdout",
     "output_type": "stream",
     "text": [
      "DecisionTreeClassifier - 0.6704666666666667\n",
      "RandomForestClassifier - 0.7521\n",
      "BaggingClassifier - 0.7079333333333333\n",
      "GradientBoostingClassifier - 0.6963666666666667\n",
      "CPU times: user 11min, sys: 790 ms, total: 11min\n",
      "Wall time: 10min 57s\n"
     ]
    }
   ],
   "source": [
    "%%time\n",
    "for name, clf in {'DecisionTreeClassifier': DecisionTreeClassifier, 'RandomForestClassifier': RandomForestClassifier, \n",
    "               'BaggingClassifier': BaggingClassifier, 'GradientBoostingClassifier': GradientBoostingClassifier}.items():\n",
    "    score = cross_val_score(make_pipeline(CountVectorizer(), TfidfTransformer(), clf(random_state=777)), X_train, y_train, cv=5).mean()\n",
    "    print(f\"{name} - {score}\")"
   ]
  },
  {
   "cell_type": "code",
   "execution_count": null,
   "metadata": {
    "id": "NEkOulXC9YbQ"
   },
   "outputs": [],
   "source": [
    "rfc = Pipeline([\n",
    "                ('vectorizer', CountVectorizer(min_df=1, ngram_range=(1, 2), max_df=1.0, stop_words=stop_words)),\n",
    "                ('transformer', TfidfTransformer()),\n",
    "                ('classifier', RandomForestClassifier())\n",
    "                ])"
   ]
  },
  {
   "cell_type": "code",
   "execution_count": null,
   "metadata": {
    "colab": {
     "base_uri": "https://localhost:8080/"
    },
    "id": "QkdRj0GL9PbA",
    "outputId": "d88e622f-76ba-4bc5-9d61-70e413fe959b"
   },
   "outputs": [
    {
     "data": {
      "text/plain": [
       "Pipeline(memory=None,\n",
       "         steps=[('vectorizer',\n",
       "                 CountVectorizer(analyzer='word', binary=False,\n",
       "                                 decode_error='strict',\n",
       "                                 dtype=<class 'numpy.int64'>, encoding='utf-8',\n",
       "                                 input='content', lowercase=True, max_df=1.0,\n",
       "                                 max_features=None, min_df=1,\n",
       "                                 ngram_range=(1, 2), preprocessor=None,\n",
       "                                 stop_words=['i', 'me', 'my', 'myself', 'we',\n",
       "                                             'our', 'ours', 'ourselves', 'you',\n",
       "                                             \"you're\", \"you've\", \"yo...\n",
       "                 RandomForestClassifier(bootstrap=True, ccp_alpha=0.0,\n",
       "                                        class_weight=None, criterion='gini',\n",
       "                                        max_depth=None, max_features='auto',\n",
       "                                        max_leaf_nodes=None, max_samples=None,\n",
       "                                        min_impurity_decrease=0.0,\n",
       "                                        min_impurity_split=None,\n",
       "                                        min_samples_leaf=1, min_samples_split=2,\n",
       "                                        min_weight_fraction_leaf=0.0,\n",
       "                                        n_estimators=100, n_jobs=None,\n",
       "                                        oob_score=False, random_state=None,\n",
       "                                        verbose=0, warm_start=False))],\n",
       "         verbose=False)"
      ]
     },
     "execution_count": 24,
     "metadata": {},
     "output_type": "execute_result"
    }
   ],
   "source": [
    "rfc.fit(X_train, y_train)"
   ]
  },
  {
   "cell_type": "code",
   "execution_count": null,
   "metadata": {
    "colab": {
     "base_uri": "https://localhost:8080/"
    },
    "id": "rYo2zUFR9rg-",
    "outputId": "57fdecff-0cde-46c0-ed16-14d1ab832be5"
   },
   "outputs": [
    {
     "data": {
      "text/plain": [
       "0.7103064066852368"
      ]
     },
     "execution_count": 26,
     "metadata": {},
     "output_type": "execute_result"
    }
   ],
   "source": [
    "rfc.score(X_test, y_test)"
   ]
  },
  {
   "cell_type": "markdown",
   "metadata": {
    "id": "uTmIzX8HZwke"
   },
   "source": [
    "Модели на основе решающих деревьев показывают результаты на валидации хуже, чем линейные модели, более того, данный тип моделей в принципе хуже справляется с классификацией текста из-за особенностей построения деревьев, поэтому производить подбор параметров для данных моделей не будем.\n"
   ]
  },
  {
   "cell_type": "markdown",
   "metadata": {
    "id": "39nz24CZHpio"
   },
   "source": [
    "## 2.3 Улучшение модели"
   ]
  },
  {
   "cell_type": "markdown",
   "metadata": {
    "id": "icSeERDMLM2h"
   },
   "source": [
    "На этапе обучения и тестирования лучше всего показала себя __модель логистической регрессии__:\n",
    "*   accuracy train: 0.8098\n",
    "*   accuracy train: 0.8189\n",
    "\n"
   ]
  },
  {
   "cell_type": "markdown",
   "metadata": {
    "id": "rP7kkGraMkOM"
   },
   "source": [
    "__Однако, необходимо протестировать модель на кейсах, предложенных Почтабанком__.\n",
    "\n",
    "В текущем виде модель обучена на английском корпусе слов, что не позволит корректно отработать на кейсах Почтабанка, поэтому дообучим модель дополнительно на русском корпусе слов. Метки классов: negative, positive, neutral"
   ]
  },
  {
   "cell_type": "markdown",
   "metadata": {
    "id": "nYgLuO7zfX7Q"
   },
   "source": [
    "Более того, в поставленной задаче нам важно, чтобы текст классифицировался не только на два класса: __положительный и негативный__, так как зачастую сообщения в чате могут носить безэмоциональный характер. Поэтому для обучения модели на русском корпусе слов введем ещё один класс: __нейтральный__."
   ]
  },
  {
   "cell_type": "markdown",
   "metadata": {
    "id": "s9hEWxzCXeOj"
   },
   "source": [
    "Для обучения возмем датасет, состоящий из сводок новостных сообщений на русском языке."
   ]
  },
  {
   "cell_type": "code",
   "execution_count": 70,
   "metadata": {
    "id": "oFGH4cb-O9MH"
   },
   "outputs": [],
   "source": [
    "with open('train.json') as f:\n",
    "    raw_train = json.load(f)"
   ]
  },
  {
   "cell_type": "code",
   "execution_count": 71,
   "metadata": {
    "colab": {
     "base_uri": "https://localhost:8080/",
     "height": 204
    },
    "id": "L3sOkq2DcSpW",
    "outputId": "85edecf1-012f-42f1-a2f1-6d9385ba140f"
   },
   "outputs": [
    {
     "data": {
      "text/html": [
       "<div>\n",
       "<style scoped>\n",
       "    .dataframe tbody tr th:only-of-type {\n",
       "        vertical-align: middle;\n",
       "    }\n",
       "\n",
       "    .dataframe tbody tr th {\n",
       "        vertical-align: top;\n",
       "    }\n",
       "\n",
       "    .dataframe thead th {\n",
       "        text-align: right;\n",
       "    }\n",
       "</style>\n",
       "<table border=\"1\" class=\"dataframe\">\n",
       "  <thead>\n",
       "    <tr style=\"text-align: right;\">\n",
       "      <th></th>\n",
       "      <th>text</th>\n",
       "      <th>label</th>\n",
       "    </tr>\n",
       "  </thead>\n",
       "  <tbody>\n",
       "    <tr>\n",
       "      <th>0</th>\n",
       "      <td>Досудебное расследование по факту покупки ЕНПФ...</td>\n",
       "      <td>negative</td>\n",
       "    </tr>\n",
       "    <tr>\n",
       "      <th>1</th>\n",
       "      <td>Медики рассказали о состоянии пострадавшего му...</td>\n",
       "      <td>negative</td>\n",
       "    </tr>\n",
       "    <tr>\n",
       "      <th>2</th>\n",
       "      <td>Прошел почти год, как железнодорожным оператор...</td>\n",
       "      <td>negative</td>\n",
       "    </tr>\n",
       "    <tr>\n",
       "      <th>3</th>\n",
       "      <td>По итогам 12 месяцев 2016 года на территории р...</td>\n",
       "      <td>negative</td>\n",
       "    </tr>\n",
       "    <tr>\n",
       "      <th>4</th>\n",
       "      <td>Астана. 21 ноября. Kazakhstan Today - Агентств...</td>\n",
       "      <td>negative</td>\n",
       "    </tr>\n",
       "  </tbody>\n",
       "</table>\n",
       "</div>"
      ],
      "text/plain": [
       "                                                text     label\n",
       "0  Досудебное расследование по факту покупки ЕНПФ...  negative\n",
       "1  Медики рассказали о состоянии пострадавшего му...  negative\n",
       "2  Прошел почти год, как железнодорожным оператор...  negative\n",
       "3  По итогам 12 месяцев 2016 года на территории р...  negative\n",
       "4  Астана. 21 ноября. Kazakhstan Today - Агентств...  negative"
      ]
     },
     "execution_count": 71,
     "metadata": {},
     "output_type": "execute_result"
    }
   ],
   "source": [
    "data_train = pd.json_normalize(raw_train).drop(columns=['id'])\n",
    "data_train.columns = ['text', 'label']\n",
    "data_train.head()"
   ]
  },
  {
   "cell_type": "code",
   "execution_count": 73,
   "metadata": {
    "id": "eqn-pNNvc_DK"
   },
   "outputs": [],
   "source": [
    "train_x = data_train['text'].values\n",
    "train_y = data_train['label'].values"
   ]
  },
  {
   "cell_type": "code",
   "execution_count": 74,
   "metadata": {
    "id": "9cvp1gmEXw0Z"
   },
   "outputs": [],
   "source": [
    "params = {'stop_words':stopwords.words(['russian', 'english']), 'ngram_range': (1, 3), 'min_df': 3 }\n",
    "tfidf  = TfidfVectorizer(**params)"
   ]
  },
  {
   "cell_type": "code",
   "execution_count": 75,
   "metadata": {
    "colab": {
     "base_uri": "https://localhost:8080/"
    },
    "id": "3e6U08rCcO-n",
    "outputId": "e4525e9b-8de6-4cd1-ccb2-4b985b48a5ea"
   },
   "outputs": [
    {
     "data": {
      "text/plain": [
       "TfidfVectorizer(analyzer='word', binary=False, decode_error='strict',\n",
       "                dtype=<class 'numpy.float64'>, encoding='utf-8',\n",
       "                input='content', lowercase=True, max_df=1.0, max_features=None,\n",
       "                min_df=3, ngram_range=(1, 3), norm='l2', preprocessor=None,\n",
       "                smooth_idf=True,\n",
       "                stop_words=['и', 'в', 'во', 'не', 'что', 'он', 'на', 'я', 'с',\n",
       "                            'со', 'как', 'а', 'то', 'все', 'она', 'так', 'его',\n",
       "                            'но', 'да', 'ты', 'к', 'у', 'же', 'вы', 'за', 'бы',\n",
       "                            'по', 'только', 'ее', 'мне', ...],\n",
       "                strip_accents=None, sublinear_tf=False,\n",
       "                token_pattern='(?u)\\\\b\\\\w\\\\w+\\\\b', tokenizer=None, use_idf=True,\n",
       "                vocabulary=None)"
      ]
     },
     "execution_count": 75,
     "metadata": {},
     "output_type": "execute_result"
    }
   ],
   "source": [
    "tfidf.fit(data_train['text'])"
   ]
  },
  {
   "cell_type": "code",
   "execution_count": 111,
   "metadata": {
    "id": "HkMSfkS1cknF"
   },
   "outputs": [],
   "source": [
    "m_params = {'solver':'lbfgs', 'multi_class': 'multinomial'}\n",
    "model = LogisticRegression(**m_params)"
   ]
  },
  {
   "cell_type": "code",
   "execution_count": 113,
   "metadata": {
    "colab": {
     "base_uri": "https://localhost:8080/"
    },
    "id": "7iH9gkcuco6g",
    "outputId": "a17fdbd7-e0f2-4027-9bab-da4027ca5a01"
   },
   "outputs": [
    {
     "data": {
      "text/plain": [
       "LogisticRegression(C=1.0, class_weight=None, dual=False, fit_intercept=True,\n",
       "                   intercept_scaling=1, l1_ratio=None, max_iter=100,\n",
       "                   multi_class='multinomial', n_jobs=None, penalty='l2',\n",
       "                   random_state=None, solver='lbfgs', tol=0.0001, verbose=0,\n",
       "                   warm_start=False)"
      ]
     },
     "execution_count": 113,
     "metadata": {},
     "output_type": "execute_result"
    }
   ],
   "source": [
    "model.fit(tfidf.transform(train_x), train_y)"
   ]
  },
  {
   "cell_type": "code",
   "execution_count": 114,
   "metadata": {
    "colab": {
     "base_uri": "https://localhost:8080/"
    },
    "id": "13bWjBHxcsxT",
    "outputId": "38d2f407-3d6a-47f1-bd8e-b51bf7fe67a4"
   },
   "outputs": [
    {
     "data": {
      "text/plain": [
       "0.9296560272699101"
      ]
     },
     "execution_count": 114,
     "metadata": {},
     "output_type": "execute_result"
    }
   ],
   "source": [
    "model.score(tfidf.transform(train_x), train_y)"
   ]
  },
  {
   "cell_type": "markdown",
   "metadata": {
    "id": "lldr-4qCg-mr"
   },
   "source": [
    "## Протестируем обученную модель на кейсах Почтабанка"
   ]
  },
  {
   "cell_type": "code",
   "execution_count": 115,
   "metadata": {
    "colab": {
     "base_uri": "https://localhost:8080/",
     "height": 204
    },
    "id": "LYsLN5X4dpec",
    "outputId": "c58b3402-fb21-4d63-c08c-2b0f1b798ce6"
   },
   "outputs": [
    {
     "data": {
      "text/html": [
       "<div>\n",
       "<style scoped>\n",
       "    .dataframe tbody tr th:only-of-type {\n",
       "        vertical-align: middle;\n",
       "    }\n",
       "\n",
       "    .dataframe tbody tr th {\n",
       "        vertical-align: top;\n",
       "    }\n",
       "\n",
       "    .dataframe thead th {\n",
       "        text-align: right;\n",
       "    }\n",
       "</style>\n",
       "<table border=\"1\" class=\"dataframe\">\n",
       "  <thead>\n",
       "    <tr style=\"text-align: right;\">\n",
       "      <th></th>\n",
       "      <th>label</th>\n",
       "      <th>text</th>\n",
       "    </tr>\n",
       "  </thead>\n",
       "  <tbody>\n",
       "    <tr>\n",
       "      <th>0</th>\n",
       "      <td>0</td>\n",
       "      <td>Как только я заинтересовался распечаткой движе...</td>\n",
       "    </tr>\n",
       "    <tr>\n",
       "      <th>1</th>\n",
       "      <td>0</td>\n",
       "      <td>Добрый день. Почему у меня просроченная задолж...</td>\n",
       "    </tr>\n",
       "    <tr>\n",
       "      <th>2</th>\n",
       "      <td>1</td>\n",
       "      <td>Всё о заявке на кредит. Как оставить заявку? П...</td>\n",
       "    </tr>\n",
       "    <tr>\n",
       "      <th>3</th>\n",
       "      <td>0</td>\n",
       "      <td>Здравствуйте, я произвела частичное досрочное ...</td>\n",
       "    </tr>\n",
       "    <tr>\n",
       "      <th>4</th>\n",
       "      <td>1</td>\n",
       "      <td>Как удалить старую карту. Оценка консультации ...</td>\n",
       "    </tr>\n",
       "  </tbody>\n",
       "</table>\n",
       "</div>"
      ],
      "text/plain": [
       "   label                                               text\n",
       "0      0  Как только я заинтересовался распечаткой движе...\n",
       "1      0  Добрый день. Почему у меня просроченная задолж...\n",
       "2      1  Всё о заявке на кредит. Как оставить заявку? П...\n",
       "3      0  Здравствуйте, я произвела частичное досрочное ...\n",
       "4      1  Как удалить старую карту. Оценка консультации ..."
      ]
     },
     "execution_count": 115,
     "metadata": {},
     "output_type": "execute_result"
    }
   ],
   "source": [
    "test_pochtabank = pd.read_excel('test_pochtabank.xlsx')\n",
    "test_pochtabank.head()"
   ]
  },
  {
   "cell_type": "code",
   "execution_count": 116,
   "metadata": {
    "id": "kh34YFvwi3W-"
   },
   "outputs": [],
   "source": [
    "test_pochtabank['label'] = test_pochtabank['label'].replace({0:'negative', 1:'neutral', 2:'positive'})"
   ]
  },
  {
   "cell_type": "code",
   "execution_count": 117,
   "metadata": {
    "id": "OVuCYJqKhQ8F"
   },
   "outputs": [],
   "source": [
    "x_test = test_pochtabank['text'].values\n",
    "y_test = test_pochtabank['label'].values"
   ]
  },
  {
   "cell_type": "code",
   "execution_count": 118,
   "metadata": {
    "id": "6pN1N_GqeuD2"
   },
   "outputs": [],
   "source": [
    "pred = model.predict(tfidf.transform(x_test))"
   ]
  },
  {
   "cell_type": "code",
   "execution_count": 119,
   "metadata": {
    "colab": {
     "base_uri": "https://localhost:8080/"
    },
    "id": "W89lbw-Kh3xP",
    "outputId": "c582b676-6955-417d-eb3b-2affea2976d7"
   },
   "outputs": [
    {
     "data": {
      "text/plain": [
       "0.8571428571428571"
      ]
     },
     "execution_count": 119,
     "metadata": {},
     "output_type": "execute_result"
    }
   ],
   "source": [
    "accuracy_score(y_test, pred)"
   ]
  },
  {
   "cell_type": "code",
   "execution_count": 122,
   "metadata": {
    "id": "hRosszUbltbi"
   },
   "outputs": [],
   "source": [
    "test_pochtabank['prediction'] = pred"
   ]
  },
  {
   "cell_type": "code",
   "execution_count": 124,
   "metadata": {
    "colab": {
     "base_uri": "https://localhost:8080/",
     "height": 204
    },
    "id": "PpulJJsOl491",
    "outputId": "d3a19d8b-10d4-4fae-b5b1-d3985e91cc8a"
   },
   "outputs": [
    {
     "data": {
      "text/html": [
       "<div>\n",
       "<style scoped>\n",
       "    .dataframe tbody tr th:only-of-type {\n",
       "        vertical-align: middle;\n",
       "    }\n",
       "\n",
       "    .dataframe tbody tr th {\n",
       "        vertical-align: top;\n",
       "    }\n",
       "\n",
       "    .dataframe thead th {\n",
       "        text-align: right;\n",
       "    }\n",
       "</style>\n",
       "<table border=\"1\" class=\"dataframe\">\n",
       "  <thead>\n",
       "    <tr style=\"text-align: right;\">\n",
       "      <th></th>\n",
       "      <th>text</th>\n",
       "      <th>label</th>\n",
       "      <th>prediction</th>\n",
       "    </tr>\n",
       "  </thead>\n",
       "  <tbody>\n",
       "    <tr>\n",
       "      <th>0</th>\n",
       "      <td>Как только я заинтересовался распечаткой движе...</td>\n",
       "      <td>negative</td>\n",
       "      <td>negative</td>\n",
       "    </tr>\n",
       "    <tr>\n",
       "      <th>1</th>\n",
       "      <td>Добрый день. Почему у меня просроченная задолж...</td>\n",
       "      <td>negative</td>\n",
       "      <td>negative</td>\n",
       "    </tr>\n",
       "    <tr>\n",
       "      <th>2</th>\n",
       "      <td>Всё о заявке на кредит. Как оставить заявку? П...</td>\n",
       "      <td>neutral</td>\n",
       "      <td>neutral</td>\n",
       "    </tr>\n",
       "    <tr>\n",
       "      <th>3</th>\n",
       "      <td>Здравствуйте, я произвела частичное досрочное ...</td>\n",
       "      <td>negative</td>\n",
       "      <td>neutral</td>\n",
       "    </tr>\n",
       "    <tr>\n",
       "      <th>4</th>\n",
       "      <td>Как удалить старую карту. Оценка консультации ...</td>\n",
       "      <td>neutral</td>\n",
       "      <td>neutral</td>\n",
       "    </tr>\n",
       "  </tbody>\n",
       "</table>\n",
       "</div>"
      ],
      "text/plain": [
       "                                                text     label prediction\n",
       "0  Как только я заинтересовался распечаткой движе...  negative   negative\n",
       "1  Добрый день. Почему у меня просроченная задолж...  negative   negative\n",
       "2  Всё о заявке на кредит. Как оставить заявку? П...   neutral    neutral\n",
       "3  Здравствуйте, я произвела частичное досрочное ...  negative    neutral\n",
       "4  Как удалить старую карту. Оценка консультации ...   neutral    neutral"
      ]
     },
     "execution_count": 124,
     "metadata": {},
     "output_type": "execute_result"
    }
   ],
   "source": [
    "test_pochtabank = test_pochtabank[['text', 'label', 'prediction']]\n",
    "test_pochtabank.head()"
   ]
  },
  {
   "cell_type": "markdown",
   "metadata": {
    "id": "pKQlslWDpFXc"
   },
   "source": [
    "Посмотрим, на каком кейсе была допущена ошибка:"
   ]
  },
  {
   "cell_type": "code",
   "execution_count": 135,
   "metadata": {
    "colab": {
     "base_uri": "https://localhost:8080/"
    },
    "id": "UWRJFGp3pDU3",
    "outputId": "1b0bdc4e-0e68-4eaa-89e0-fa475f15c046"
   },
   "outputs": [
    {
     "data": {
      "text/plain": [
       "array(['Здравствуйте, я произвела частичное досрочное погашение кредита, но у меня уменьшился срок кредита, а не перерасчёт процентов, как сделать чтобы был именно платёж уменьшался? Нужен специалист. Ясно, увы вы опять меня разочаровали, это последнее наше сотрудничество Оценка консультации - 1 из 5'],\n",
       "      dtype=object)"
      ]
     },
     "execution_count": 135,
     "metadata": {},
     "output_type": "execute_result"
    }
   ],
   "source": [
    "test_pochtabank.loc[test_pochtabank['label']!= test_pochtabank['prediction']]['text'].values"
   ]
  },
  {
   "cell_type": "markdown",
   "metadata": {
    "id": "mhN1aVsBoEZe"
   },
   "source": [
    "При необходимости можно оценивать вероятности принадлежности тому или иному классу:"
   ]
  },
  {
   "cell_type": "code",
   "execution_count": 131,
   "metadata": {
    "colab": {
     "base_uri": "https://localhost:8080/"
    },
    "id": "Il6WWyGTn8lW",
    "outputId": "2cfcccac-3c1b-4606-ad45-eb8d65bbf9bf"
   },
   "outputs": [
    {
     "data": {
      "text/plain": [
       "array([[0.45460102, 0.34788451, 0.19751448],\n",
       "       [0.48135622, 0.32413306, 0.19451072],\n",
       "       [0.34088063, 0.37083391, 0.28828546],\n",
       "       [0.22218874, 0.48674657, 0.29106469],\n",
       "       [0.23040849, 0.41137912, 0.3582124 ],\n",
       "       [0.1940125 , 0.36085805, 0.44512945],\n",
       "       [0.2022444 , 0.49411714, 0.30363846]])"
      ]
     },
     "execution_count": 131,
     "metadata": {},
     "output_type": "execute_result"
    }
   ],
   "source": [
    "model.predict_proba(tfidf.transform(x_test))"
   ]
  },
  {
   "cell_type": "code",
   "execution_count": 125,
   "metadata": {
    "id": "hY2dQCUJl7NQ"
   },
   "outputs": [],
   "source": [
    "test_pochtabank.to_excel('prediction_pochtabank.xlsx')"
   ]
  },
  {
   "cell_type": "markdown",
   "metadata": {
    "id": "StNPiNvzmWof"
   },
   "source": [
    "Таким образом, на кейсах Почтабанка модель показывает достойные результаты и ошибается лишь в одном случае, классифицируя неявное негативное обращение к нейтральному."
   ]
  }
 ],
 "metadata": {
  "colab": {
   "collapsed_sections": [],
   "name": "2. Models Research.ipynb",
   "provenance": []
  },
  "kernelspec": {
   "display_name": "Python 3",
   "language": "python",
   "name": "python3"
  },
  "language_info": {
   "codemirror_mode": {
    "name": "ipython",
    "version": 3
   },
   "file_extension": ".py",
   "mimetype": "text/x-python",
   "name": "python",
   "nbconvert_exporter": "python",
   "pygments_lexer": "ipython3",
   "version": "3.7.4"
  }
 },
 "nbformat": 4,
 "nbformat_minor": 1
}
